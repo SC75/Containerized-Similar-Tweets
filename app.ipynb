{
 "metadata": {
  "language_info": {
   "codemirror_mode": {
    "name": "ipython",
    "version": 3
   },
   "file_extension": ".py",
   "mimetype": "text/x-python",
   "name": "python",
   "nbconvert_exporter": "python",
   "pygments_lexer": "ipython3",
   "version": "3.7.4-final"
  },
  "orig_nbformat": 2,
  "kernelspec": {
   "name": "python3",
   "display_name": "Python 3.7.4 64-bit (conda)",
   "metadata": {
    "interpreter": {
     "hash": "f9ab380412f2ad24899551df167000c7fc8a46fe6ad7328e7cb28f9d363c96d1"
    }
   }
  }
 },
 "nbformat": 4,
 "nbformat_minor": 2,
 "cells": [
  {
   "cell_type": "code",
   "execution_count": 1,
   "metadata": {},
   "outputs": [
    {
     "output_type": "stream",
     "name": "stderr",
     "text": [
      "unable to import 'smart_open.gcs', disabling that module\n",
      "[nltk_data] Downloading package stopwords to\n",
      "[nltk_data]     C:\\Users\\schen\\AppData\\Roaming\\nltk_data...\n",
      "[nltk_data]   Package stopwords is already up-to-date!\n",
      "[nltk_data] Downloading package punkt to\n",
      "[nltk_data]     C:\\Users\\schen\\AppData\\Roaming\\nltk_data...\n",
      "[nltk_data]   Package punkt is already up-to-date!\n"
     ]
    },
    {
     "output_type": "execute_result",
     "data": {
      "text/plain": [
       "True"
      ]
     },
     "metadata": {},
     "execution_count": 1
    }
   ],
   "source": [
    "import pandas as pd\n",
    "import re\n",
    "from nltk import word_tokenize, download\n",
    "from nltk.corpus import stopwords\n",
    "import gensim\n",
    "from gensim.similarities import WmdSimilarity\n",
    "download('stopwords')\n",
    "download('punkt')"
   ]
  },
  {
   "cell_type": "code",
   "execution_count": 2,
   "metadata": {},
   "outputs": [],
   "source": [
    "# Preprocessing \n",
    "def pre_processing_text(text):\n",
    "    # lowercase\n",
    "    text = text.lower()\n",
    "    # extra lines\n",
    "    text = re.sub(r'\\s+', ' ', text)\n",
    "    text = re.sub(r\"\\'\", \"\", text)\n",
    "    # punctuations and symbols\n",
    "    text = re.sub(r'[^A-Za-z0-9 ]+', '', text)\n",
    "    # hastags\n",
    "    text = text.replace(\"#\", \"\")\n",
    "    # hyperlinks\n",
    "    text = re.sub(\n",
    "        \"(https?:\\/\\/)?([\\da-z\\.-]+)\\.([a-z\\.]{2,6})([\\/\\w \\.-]*)\", '', text)\n",
    "    text = re.sub(\"http\", '', text)\n",
    "    # retweets\n",
    "    text = re.sub(r'^RT @.+\\:', '', text)\n",
    "    text = re.sub('@', '', text)\n",
    "    # stopwords\n",
    "    return [word for word in word_tokenize(text) if word not in stop_words]"
   ]
  },
  {
   "cell_type": "code",
   "execution_count": 3,
   "metadata": {},
   "outputs": [],
   "source": [
    "# Dataframe creation and model implementation\n",
    "df = pd.read_csv('tweets.csv')\n",
    "df_text = pd.DataFrame()\n",
    "stop_words = stopwords.words('english')\n",
    "df.text = df.text.apply(pre_processing_text)\n",
    "df_text['Text'] = df.text"
   ]
  },
  {
   "cell_type": "code",
   "execution_count": 4,
   "metadata": {},
   "outputs": [],
   "source": [
    "# Word2Vec model\n",
    "model = gensim.models.Word2Vec(sentences=df_text['Text'], window=5, min_count=1, workers=5)\n",
    "model.save(\"word2vec.model\")\n",
    "similarity_index = WmdSimilarity(df_text['Text'], model, num_best=20)"
   ]
  }
 ]
}